{
 "cells": [
  {
   "cell_type": "code",
   "execution_count": 23,
   "metadata": {},
   "outputs": [
    {
     "name": "stdout",
     "output_type": "stream",
     "text": [
      "91 \n",
      "\n",
      "\n",
      "[[35 36 37 38 39]] \n",
      "\n",
      "\n",
      "[  0   5  10  15  20  25  30  35  40  45  50  55  60  65  70  75  80  85\n",
      "  90  95 100 105 110 115] \n",
      "\n",
      "\n"
     ]
    },
    {
     "data": {
      "text/plain": [
       "array([[[  2.,   7.,  12.,  17.],\n",
       "        [ 22.,  27.,  32.,  37.],\n",
       "        [ 42.,  47.,  52.,  57.]],\n",
       "\n",
       "       [[ 62.,  67.,  72.,  77.],\n",
       "        [ 82.,  87.,  92.,  97.],\n",
       "        [102., 107., 112., 117.]]])"
      ]
     },
     "execution_count": 23,
     "metadata": {},
     "output_type": "execute_result"
    }
   ],
   "source": [
    "import numpy as np\n",
    "\n",
    "a = np.arange(120)\n",
    "\n",
    "A = a.reshape(2,3,4,5)\n",
    "\n",
    "print(A[1,1,2,1],\"\\n\\n\")\n",
    "\n",
    "print(A[0,1,3:],\"\\n\\n\")\n",
    "\n",
    "n= A[A % 5 == 0]\n",
    "print(n,\"\\n\\n\")\n",
    "\n",
    "np.apply_along_axis(np.mean, axis=3, arr=A)"
   ]
  }
 ],
 "metadata": {
  "kernelspec": {
   "display_name": "Python 3",
   "language": "python",
   "name": "python3"
  },
  "language_info": {
   "codemirror_mode": {
    "name": "ipython",
    "version": 3
   },
   "file_extension": ".py",
   "mimetype": "text/x-python",
   "name": "python",
   "nbconvert_exporter": "python",
   "pygments_lexer": "ipython3",
   "version": "3.7.6"
  }
 },
 "nbformat": 4,
 "nbformat_minor": 4
}
